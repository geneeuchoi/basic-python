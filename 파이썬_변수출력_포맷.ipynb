{
  "nbformat": 4,
  "nbformat_minor": 0,
  "metadata": {
    "colab": {
      "provenance": [],
      "authorship_tag": "ABX9TyOa4gJmphg/tm0oe2JPZEn4",
      "include_colab_link": true
    },
    "kernelspec": {
      "name": "python3",
      "display_name": "Python 3"
    },
    "language_info": {
      "name": "python"
    }
  },
  "cells": [
    {
      "cell_type": "markdown",
      "metadata": {
        "id": "view-in-github",
        "colab_type": "text"
      },
      "source": [
        "<a href=\"https://colab.research.google.com/github/geneeuchoi/basic-python/blob/main/%ED%8C%8C%EC%9D%B4%EC%8D%AC_%EB%B3%80%EC%88%98%EC%B6%9C%EB%A0%A5_%ED%8F%AC%EB%A7%B7.ipynb\" target=\"_parent\"><img src=\"https://colab.research.google.com/assets/colab-badge.svg\" alt=\"Open In Colab\"/></a>"
      ]
    },
    {
      "cell_type": "markdown",
      "source": [
        "변수에 담긴 값을 원하는 형식에 맞춰 출력하기 위해서는 크게 3가지 방법을 사용할 수 있습니다.\n",
        "\n",
        "1. 변수 포맷(%d, %s, ...)과 %를 사용\n",
        "다음과 같이 문자열에 해당 변수의 type에 해당하는 포맷을 적어주고, 맨 뒤에는 % 뒤에 변수를 나열하는 식으로 포맷을 맞출 수 있습니다. 2개 이상의 변수를 한 문자열에 넣기 위해서는, 소괄호()로 감싸 순서대로 변수들을 나열하면 됩니다.\n"
      ],
      "metadata": {
        "id": "QEKzo7WPUvbk"
      }
    },
    {
      "cell_type": "code",
      "source": [
        "a = 5\n",
        "print(\"A is %d\" % a)\n",
        "\n",
        "b = \"apple\"\n",
        "print(\"B is %s\" % b)\n",
        "\n",
        "print(\"A is %d and B is %s\" % (a, b))"
      ],
      "metadata": {
        "colab": {
          "base_uri": "https://localhost:8080/"
        },
        "id": "ELf92s0hWWfS",
        "outputId": "eb78c5b3-81c9-4254-dde6-9ee184600ae2"
      },
      "execution_count": null,
      "outputs": [
        {
          "output_type": "stream",
          "name": "stdout",
          "text": [
            "A is 5\n",
            "B is apple\n",
            "A is 5 and B is apple\n"
          ]
        }
      ]
    },
    {
      "cell_type": "markdown",
      "source": [
        "변수 포맷은 문자열의 경우 %s를, 문자의 경우 %c를, 정수의 경우 %d, 실수의 경우 %f 등이 가능합니다."
      ],
      "metadata": {
        "id": "h1RTFpp3WkB2"
      }
    },
    {
      "cell_type": "markdown",
      "source": [
        "2. format 함수를 이용\n",
        "format 함수를 이용하면 직접 변수의 type을 명시하지 않더라도, 순서 혹은 이름을 명시하여 원하는 변수를 포맷에 맞춰 넣어줄 수 있습니다. 숫자를 적게되는 경우에는 format 함수에 적게되는 변수에 번호를 0번부터 붙였을 때 몇 번째 값인지를 명시하는 것입니다. 숫자 대신 새로운 이름을 붙여 적는 것도 가능합니다. format을 이용하는 경우에는 꼭 문자열 내 변수를 사용할 위치에 {}로 감싸줘야 합니다.\n"
      ],
      "metadata": {
        "id": "sWtd20wvWrKQ"
      }
    },
    {
      "cell_type": "code",
      "source": [
        "\n",
        "a, b = 5, \"apple\"\n",
        "\n",
        "print(\"A is {0}\".format(a))\n",
        "print(\"A is {new_a}\".format(new_a=a))\n",
        "\n",
        "print(\"B is {0}\".format(b))\n",
        "print(\"B is {new_b}\".format(new_b=b))\n",
        "\n",
        "print(\"A is {0} and B is {1}\".format(a, b))\n",
        "print(\"A is {new_a} and B is {new_b}\".format(new_a=a, new_b=b))\n",
        "print(\"B is {1} and A is {0}\".format(a, b))\n",
        "print(\"B is {new_b} and A is {new_a}\".format(new_a=a, new_b=b))"
      ],
      "metadata": {
        "id": "uO2tp8knWvRq"
      },
      "execution_count": null,
      "outputs": []
    },
    {
      "cell_type": "markdown",
      "source": [
        "\n",
        "3. f 문자열 포맷을 이용\n",
        "python 3.6부터는 f 문자열 포맷을 이용할 수 있습니다.\n",
        "\n",
        "변수 이름을 그대로 문자열에 쉽게 옮길 수 있는 방법으로, format 함수와 유사하지만 별도의 함수 이용 없이 문자열 앞에 f를 붙이고 변수 이름을 중괄호{}로 감싸면 원하는 변수를 해당 위치에 넣어줄 수 있게 됩니다.\n"
      ],
      "metadata": {
        "id": "FZEldzOtWxeD"
      }
    },
    {
      "cell_type": "code",
      "source": [
        "a, b = 5, \"apple\"\n",
        "\n",
        "print(f\"A is {a}\")\n",
        "print(f\"B is {b}\")\n",
        "print(f\"A is {a} and B is {b}\")"
      ],
      "metadata": {
        "id": "B1Zcn6GZW1Ax"
      },
      "execution_count": null,
      "outputs": []
    }
  ]
}