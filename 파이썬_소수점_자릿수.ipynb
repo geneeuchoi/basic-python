{
  "nbformat": 4,
  "nbformat_minor": 0,
  "metadata": {
    "colab": {
      "provenance": [],
      "authorship_tag": "ABX9TyN5x2mUwGHzC6Gr8uTgF84q",
      "include_colab_link": true
    },
    "kernelspec": {
      "name": "python3",
      "display_name": "Python 3"
    },
    "language_info": {
      "name": "python"
    }
  },
  "cells": [
    {
      "cell_type": "markdown",
      "metadata": {
        "id": "view-in-github",
        "colab_type": "text"
      },
      "source": [
        "<a href=\"https://colab.research.google.com/github/geneeuchoi/basic-python/blob/main/%ED%8C%8C%EC%9D%B4%EC%8D%AC_%EC%86%8C%EC%88%98%EC%A0%90_%EC%9E%90%EB%A6%BF%EC%88%98.ipynb\" target=\"_parent\"><img src=\"https://colab.research.google.com/assets/colab-badge.svg\" alt=\"Open In Colab\"/></a>"
      ]
    },
    {
      "cell_type": "markdown",
      "source": [
        "실수값을 갖는 변수의 경우 소수점 자리를 맞춰 출력하는 경우가 대다수 입니다. 이 경우에는 먼저 다음과 같이 % 를 사용해볼 수 있습니다. 다음 코드는 소수점 4째짜리까지 값을 반올림하여 출력하는 코드입니다."
      ],
      "metadata": {
        "id": "jBGSzzOPYy2T"
      }
    },
    {
      "cell_type": "code",
      "execution_count": null,
      "metadata": {
        "id": "I3yJ-zerYvxO"
      },
      "outputs": [],
      "source": [
        "a = 33.567268\n",
        "print(\"%.4f\" % a)"
      ]
    },
    {
      "cell_type": "markdown",
      "source": [
        "format 함수를 이용하는 것도 가능합니다. 기존 포맷이 {0}이었다면 그 뒤에 :를 붙여 포맷을 지정해 주면 됩니다."
      ],
      "metadata": {
        "id": "DG8YUS3kY4dr"
      }
    },
    {
      "cell_type": "code",
      "source": [
        "a = 33.567268\n",
        "print(\"{0:.4f}\".format(a))"
      ],
      "metadata": {
        "id": "R9_ttK_aY7sK"
      },
      "execution_count": null,
      "outputs": []
    },
    {
      "cell_type": "markdown",
      "source": [
        "f 포맷을 이용하는 것 역시 가능합니다. format 함수 이용과 비슷하게 해결이 가능합니다.\n"
      ],
      "metadata": {
        "id": "eM1YhceQY9Uc"
      }
    },
    {
      "cell_type": "code",
      "source": [
        "a = 33.567268\n",
        "print(f\"{a:.4f}\")"
      ],
      "metadata": {
        "id": "-4_s5Gd2ZANR"
      },
      "execution_count": null,
      "outputs": []
    }
  ]
}